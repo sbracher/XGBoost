{
 "cells": [
  {
   "cell_type": "markdown",
   "metadata": {},
   "source": [
    "# Data Preparation for XGBoost\n",
    "Example of options to best handle missing data This example uses the Horse Colic dataset, which contain approx 30% missing data. Binary classification."
   ]
  },
  {
   "cell_type": "code",
   "execution_count": 1,
   "metadata": {},
   "outputs": [],
   "source": [
    "import numpy as np\n",
    "from pandas import read_csv\n",
    "from xgboost import XGBClassifier\n",
    "from sklearn.model_selection import train_test_split\n",
    "from sklearn.metrics import accuracy_score\n",
    "from sklearn.metrics import confusion_matrix\n",
    "from sklearn.preprocessing import LabelEncoder\n",
    "from sklearn.preprocessing import Imputer"
   ]
  },
  {
   "cell_type": "markdown",
   "metadata": {},
   "source": [
    "## Load data"
   ]
  },
  {
   "cell_type": "code",
   "execution_count": 2,
   "metadata": {},
   "outputs": [],
   "source": [
    "# Download data from https://archive.ics.uci.edu/ml/datasets/Horse+Colic\n",
    "dataframe = read_csv(\"horse-colic.csv\", delim_whitespace=True, header=None)\n",
    "dataset = dataframe.values"
   ]
  },
  {
   "cell_type": "code",
   "execution_count": 3,
   "metadata": {},
   "outputs": [
    {
     "data": {
      "text/plain": [
       "array([['2', 1, 530101, '38.50', '66', '28', '3', '3', '?', '2', '5',\n",
       "        '4', '4', '?', '?', '?', '3', '5', '45.00', '8.40', '?', '?',\n",
       "        '2', 2, 11300, 0, 0, 2],\n",
       "       ['1', 1, 534817, '39.2', '88', '20', '?', '?', '4', '1', '3', '4',\n",
       "        '2', '?', '?', '?', '4', '2', '50', '85', '2', '2', '3', 2, 2208,\n",
       "        0, 0, 2],\n",
       "       ['2', 1, 530334, '38.30', '40', '24', '1', '1', '3', '1', '3',\n",
       "        '3', '1', '?', '?', '?', '1', '1', '33.00', '6.70', '?', '?',\n",
       "        '1', 2, 0, 0, 0, 1],\n",
       "       ['1', 9, 5290409, '39.10', '164', '84', '4', '1', '6', '2', '2',\n",
       "        '4', '4', '1', '2', '5.00', '3', '?', '48.00', '7.20', '3',\n",
       "        '5.30', '2', 1, 2208, 0, 0, 1],\n",
       "       ['2', 1, 530255, '37.30', '104', '35', '?', '?', '6', '2', '?',\n",
       "        '?', '?', '?', '?', '?', '?', '?', '74.00', '7.40', '?', '?',\n",
       "        '2', 2, 4300, 0, 0, 2]], dtype=object)"
      ]
     },
     "execution_count": 3,
     "metadata": {},
     "output_type": "execute_result"
    }
   ],
   "source": [
    "# See a sample of the dataset (first 5 rows)\n",
    "dataset[0:5,]"
   ]
  },
  {
   "cell_type": "markdown",
   "metadata": {},
   "source": [
    "## Separate into X (features) and y (label)"
   ]
  },
  {
   "cell_type": "code",
   "execution_count": 4,
   "metadata": {},
   "outputs": [],
   "source": [
    "X = dataset[:,0:27]\n",
    "y = dataset[:,27]"
   ]
  },
  {
   "cell_type": "markdown",
   "metadata": {},
   "source": [
    "## Option 1: Set missing values to zero"
   ]
  },
  {
   "cell_type": "code",
   "execution_count": 5,
   "metadata": {},
   "outputs": [],
   "source": [
    "X_zero = np.copy(X)\n",
    "X_zero[X_zero == '?'] = 0\n",
    "X_zero = X_zero.astype('float32')"
   ]
  },
  {
   "cell_type": "code",
   "execution_count": 6,
   "metadata": {},
   "outputs": [
    {
     "data": {
      "text/plain": [
       "0.0"
      ]
     },
     "execution_count": 6,
     "metadata": {},
     "output_type": "execute_result"
    }
   ],
   "source": [
    "# Check a missing value to ensure it's now zero\n",
    "X_zero[0,8]"
   ]
  },
  {
   "cell_type": "markdown",
   "metadata": {},
   "source": [
    "## Option 2: Set missing values to non-zero (e.g. one)"
   ]
  },
  {
   "cell_type": "code",
   "execution_count": 7,
   "metadata": {},
   "outputs": [],
   "source": [
    "X_nonzero = np.copy(X)\n",
    "X_nonzero[X_nonzero == '?'] = 1\n",
    "X_nonzero = X_nonzero.astype('float32')"
   ]
  },
  {
   "cell_type": "code",
   "execution_count": 8,
   "metadata": {},
   "outputs": [
    {
     "data": {
      "text/plain": [
       "1.0"
      ]
     },
     "execution_count": 8,
     "metadata": {},
     "output_type": "execute_result"
    }
   ],
   "source": [
    "# Check a missing value to ensure it's now one\n",
    "X_nonzero[0,8]"
   ]
  },
  {
   "cell_type": "markdown",
   "metadata": {},
   "source": [
    "## Option 3: Set missing values to NaN"
   ]
  },
  {
   "cell_type": "code",
   "execution_count": 9,
   "metadata": {},
   "outputs": [],
   "source": [
    "X_nan = np.copy(X)\n",
    "X_nan[X_nan == '?'] = np.nan\n",
    "X_nan = X_nan.astype('float32')"
   ]
  },
  {
   "cell_type": "code",
   "execution_count": 10,
   "metadata": {},
   "outputs": [
    {
     "data": {
      "text/plain": [
       "nan"
      ]
     },
     "execution_count": 10,
     "metadata": {},
     "output_type": "execute_result"
    }
   ],
   "source": [
    "# Check a missing value to ensure it's now NaN\n",
    "X_nan[0,8]"
   ]
  },
  {
   "cell_type": "markdown",
   "metadata": {},
   "source": [
    "## Option 4: Impute missing values as the mean"
   ]
  },
  {
   "cell_type": "code",
   "execution_count": 11,
   "metadata": {},
   "outputs": [],
   "source": [
    "imputer = Imputer()\n",
    "X_imputed = imputer.fit_transform(X_nan)"
   ]
  },
  {
   "cell_type": "code",
   "execution_count": 12,
   "metadata": {},
   "outputs": [
    {
     "data": {
      "text/plain": [
       "2.853755"
      ]
     },
     "execution_count": 12,
     "metadata": {},
     "output_type": "execute_result"
    }
   ],
   "source": [
    "# Check a missing value to ensure it's now the mean value\n",
    "X_imputed[0,8]"
   ]
  },
  {
   "cell_type": "markdown",
   "metadata": {},
   "source": [
    "## Encode the y-label as integers"
   ]
  },
  {
   "cell_type": "code",
   "execution_count": 13,
   "metadata": {},
   "outputs": [],
   "source": [
    "label_encoder = LabelEncoder()\n",
    "label_encoder = label_encoder.fit(y)\n",
    "label_encoded_y = label_encoder.transform(y)"
   ]
  },
  {
   "cell_type": "markdown",
   "metadata": {},
   "source": [
    "## Configure the train-test split 80/20"
   ]
  },
  {
   "cell_type": "code",
   "execution_count": 14,
   "metadata": {},
   "outputs": [],
   "source": [
    "seed = 8\n",
    "test_size = 0.2\n",
    "\n",
    "# Option 1\n",
    "X_zero_train, X_zero_test, y_zero_train, y_zero_test = train_test_split(X_zero, label_encoded_y, test_size=test_size, random_state=seed)\n",
    "\n",
    "# Option 2\n",
    "X_nonzero_train, X_nonzero_test, y_nonzero_train, y_nonzero_test = train_test_split(X_nonzero, label_encoded_y, test_size=test_size, random_state=seed)\n",
    "\n",
    "# Option 3\n",
    "X_nan_train, X_nan_test, y_nan_train, y_nan_test = train_test_split(X_nan, label_encoded_y, test_size=test_size, random_state=seed)\n",
    "\n",
    "# Option 4\n",
    "X_imputed_train, X_imputed_test, y_imputed_train, y_imputed_test = train_test_split(X_imputed, label_encoded_y, test_size=test_size, random_state=seed)"
   ]
  },
  {
   "cell_type": "markdown",
   "metadata": {},
   "source": [
    "## Fit the model to the training data"
   ]
  },
  {
   "cell_type": "code",
   "execution_count": 15,
   "metadata": {},
   "outputs": [
    {
     "data": {
      "text/plain": [
       "XGBClassifier(base_score=0.5, booster='gbtree', colsample_bylevel=1,\n",
       "       colsample_bytree=1, gamma=0, learning_rate=0.1, max_delta_step=0,\n",
       "       max_depth=3, min_child_weight=1, missing=None, n_estimators=100,\n",
       "       n_jobs=1, nthread=None, objective='binary:logistic', random_state=0,\n",
       "       reg_alpha=0, reg_lambda=1, scale_pos_weight=1, seed=None,\n",
       "       silent=True, subsample=1)"
      ]
     },
     "execution_count": 15,
     "metadata": {},
     "output_type": "execute_result"
    }
   ],
   "source": [
    "# Option 1\n",
    "model_zero = XGBClassifier()\n",
    "model_zero.fit(X_zero_train, y_zero_train)\n",
    "\n",
    "# Option 2\n",
    "model_nonzero = XGBClassifier()\n",
    "model_nonzero.fit(X_nonzero_train, y_nonzero_train)\n",
    "\n",
    "# Option 3\n",
    "model_nan = XGBClassifier()\n",
    "model_nan.fit(X_nan_train, y_nan_train)\n",
    "\n",
    "# Option 4\n",
    "model_imputed = XGBClassifier()\n",
    "model_imputed.fit(X_imputed_train, y_imputed_train)"
   ]
  },
  {
   "cell_type": "markdown",
   "metadata": {},
   "source": [
    "## Make predictions"
   ]
  },
  {
   "cell_type": "code",
   "execution_count": 16,
   "metadata": {},
   "outputs": [
    {
     "name": "stderr",
     "output_type": "stream",
     "text": [
      "/usr/lib/python3/dist-packages/sklearn/preprocessing/label.py:151: DeprecationWarning: The truth value of an empty array is ambiguous. Returning False, but in future this will result in an error. Use `array.size > 0` to check that an array is not empty.\n",
      "  if diff:\n",
      "/usr/lib/python3/dist-packages/sklearn/preprocessing/label.py:151: DeprecationWarning: The truth value of an empty array is ambiguous. Returning False, but in future this will result in an error. Use `array.size > 0` to check that an array is not empty.\n",
      "  if diff:\n",
      "/usr/lib/python3/dist-packages/sklearn/preprocessing/label.py:151: DeprecationWarning: The truth value of an empty array is ambiguous. Returning False, but in future this will result in an error. Use `array.size > 0` to check that an array is not empty.\n",
      "  if diff:\n",
      "/usr/lib/python3/dist-packages/sklearn/preprocessing/label.py:151: DeprecationWarning: The truth value of an empty array is ambiguous. Returning False, but in future this will result in an error. Use `array.size > 0` to check that an array is not empty.\n",
      "  if diff:\n"
     ]
    }
   ],
   "source": [
    "# Option 1\n",
    "y_zero_pred = model_zero.predict(X_zero_test)\n",
    "zero_predictions = [round(value) for value in y_zero_pred]\n",
    "\n",
    "# Option 2\n",
    "y_nonzero_pred = model_nonzero.predict(X_nonzero_test)\n",
    "nonzero_predictions = [round(value) for value in y_nonzero_pred]\n",
    "\n",
    "# Option 3\n",
    "y_nan_pred = model_nan.predict(X_nan_test)\n",
    "nan_predictions = [round(value) for value in y_nan_pred]\n",
    "\n",
    "# Option 4\n",
    "y_imputed_pred = model_imputed.predict(X_imputed_test)\n",
    "imputed_predictions = [round(value) for value in y_imputed_pred]"
   ]
  },
  {
   "cell_type": "markdown",
   "metadata": {},
   "source": [
    "## Evaluate model"
   ]
  },
  {
   "cell_type": "code",
   "execution_count": 17,
   "metadata": {},
   "outputs": [
    {
     "name": "stdout",
     "output_type": "stream",
     "text": [
      "Accuracy: 88.33%\n",
      "Precision: 90.24%\n",
      "Recall: 92.50%\n"
     ]
    }
   ],
   "source": [
    "# Option 1\n",
    "tn, fp, fn, tp = confusion_matrix(y_zero_test, zero_predictions).ravel()\n",
    "\n",
    "accuracy = (tn+tp)/(tn+tp+fp+fn)\n",
    "precision = (tp)/(fp+tp)\n",
    "recall = (tp)/(fn+tp)\n",
    "\n",
    "print(\"Accuracy: %.2f%%\" % (accuracy * 100.0))\n",
    "print(\"Precision: %.2f%%\" % (precision * 100.0))\n",
    "print(\"Recall: %.2f%%\" % (recall * 100.0))"
   ]
  },
  {
   "cell_type": "code",
   "execution_count": 18,
   "metadata": {},
   "outputs": [
    {
     "name": "stdout",
     "output_type": "stream",
     "text": [
      "Accuracy: 83.33%\n",
      "Precision: 87.50%\n",
      "Recall: 87.50%\n"
     ]
    }
   ],
   "source": [
    "# Option 2\n",
    "tn, fp, fn, tp = confusion_matrix(y_nonzero_test, nonzero_predictions).ravel()\n",
    "\n",
    "accuracy = (tn+tp)/(tn+tp+fp+fn)\n",
    "precision = (tp)/(fp+tp)\n",
    "recall = (tp)/(fn+tp)\n",
    "\n",
    "print(\"Accuracy: %.2f%%\" % (accuracy * 100.0))\n",
    "print(\"Precision: %.2f%%\" % (precision * 100.0))\n",
    "print(\"Recall: %.2f%%\" % (recall * 100.0))"
   ]
  },
  {
   "cell_type": "code",
   "execution_count": 19,
   "metadata": {},
   "outputs": [
    {
     "name": "stdout",
     "output_type": "stream",
     "text": [
      "Accuracy: 86.67%\n",
      "Precision: 88.10%\n",
      "Recall: 92.50%\n"
     ]
    }
   ],
   "source": [
    "# Option 3\n",
    "tn, fp, fn, tp = confusion_matrix(y_nan_test, nan_predictions).ravel()\n",
    "\n",
    "accuracy = (tn+tp)/(tn+tp+fp+fn)\n",
    "precision = (tp)/(fp+tp)\n",
    "recall = (tp)/(fn+tp)\n",
    "\n",
    "print(\"Accuracy: %.2f%%\" % (accuracy * 100.0))\n",
    "print(\"Precision: %.2f%%\" % (precision * 100.0))\n",
    "print(\"Recall: %.2f%%\" % (recall * 100.0))"
   ]
  },
  {
   "cell_type": "code",
   "execution_count": 20,
   "metadata": {},
   "outputs": [
    {
     "name": "stdout",
     "output_type": "stream",
     "text": [
      "Accuracy: 86.67%\n",
      "Precision: 92.11%\n",
      "Recall: 87.50%\n"
     ]
    }
   ],
   "source": [
    "# Option 4\n",
    "tn, fp, fn, tp = confusion_matrix(y_imputed_test, imputed_predictions).ravel()\n",
    "\n",
    "accuracy = (tn+tp)/(tn+tp+fp+fn)\n",
    "precision = (tp)/(fp+tp)\n",
    "recall = (tp)/(fn+tp)\n",
    "\n",
    "print(\"Accuracy: %.2f%%\" % (accuracy * 100.0))\n",
    "print(\"Precision: %.2f%%\" % (precision * 100.0))\n",
    "print(\"Recall: %.2f%%\" % (recall * 100.0))"
   ]
  },
  {
   "cell_type": "markdown",
   "metadata": {},
   "source": [
    "It's worthwhile to try both approaches (automatic handling and imputing) to find which option gives the best result."
   ]
  },
  {
   "cell_type": "code",
   "execution_count": null,
   "metadata": {},
   "outputs": [],
   "source": []
  }
 ],
 "metadata": {
  "kernelspec": {
   "display_name": "Python 3",
   "language": "python",
   "name": "python3"
  },
  "language_info": {
   "codemirror_mode": {
    "name": "ipython",
    "version": 3
   },
   "file_extension": ".py",
   "mimetype": "text/x-python",
   "name": "python",
   "nbconvert_exporter": "python",
   "pygments_lexer": "ipython3",
   "version": "3.6.5"
  }
 },
 "nbformat": 4,
 "nbformat_minor": 2
}
