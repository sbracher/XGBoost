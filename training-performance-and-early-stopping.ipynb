{
 "cells": [
  {
   "cell_type": "markdown",
   "metadata": {},
   "source": [
    "# Training Performance and Early Stopping\n",
    "Early stopping is an approach to reduce overfitting the training data. This example shows how to monitor the performance during training and plot the learning curve. It also shows how to use early stopping to prematurely stop training the model at an optimal epoch."
   ]
  },
  {
   "cell_type": "code",
   "execution_count": 1,
   "metadata": {},
   "outputs": [],
   "source": [
    "from numpy import loadtxt\n",
    "from xgboost import XGBClassifier\n",
    "from sklearn.model_selection import train_test_split\n",
    "from sklearn.metrics import accuracy_score\n",
    "from matplotlib import pyplot"
   ]
  },
  {
   "cell_type": "markdown",
   "metadata": {},
   "source": [
    "## Load data"
   ]
  },
  {
   "cell_type": "code",
   "execution_count": 2,
   "metadata": {},
   "outputs": [],
   "source": [
    "# Pima Indians dataset from https://archive.ics.uci.edu/ml/datasets/Pima+Indians+Diabetes\n",
    "# Loads the csv file as a NumPy array using NumPy function loadtext()\n",
    "dataset = loadtxt('pima-indians-diabetes.csv', delimiter=\",\")"
   ]
  },
  {
   "cell_type": "markdown",
   "metadata": {},
   "source": [
    "## Separate into fetaures (X) and label (y)"
   ]
  },
  {
   "cell_type": "code",
   "execution_count": 3,
   "metadata": {},
   "outputs": [],
   "source": [
    "X = dataset[:,0:8]\n",
    "y = dataset[:,8]"
   ]
  },
  {
   "cell_type": "markdown",
   "metadata": {},
   "source": [
    "## Split into train and test sets"
   ]
  },
  {
   "cell_type": "code",
   "execution_count": 4,
   "metadata": {},
   "outputs": [],
   "source": [
    "seed = 8\n",
    "test_size = 0.2\n",
    "\n",
    "X_train, X_test, y_train, y_test = train_test_split(X, y, test_size=test_size, random_state=seed)"
   ]
  },
  {
   "cell_type": "markdown",
   "metadata": {},
   "source": [
    "## Build the model (with evaluation metric)\n",
    "Shows the test error for the `error` evaluation metric."
   ]
  },
  {
   "cell_type": "code",
   "execution_count": 5,
   "metadata": {},
   "outputs": [
    {
     "name": "stdout",
     "output_type": "stream",
     "text": [
      "[0]\tvalidation_0-error:0.24026\n",
      "[1]\tvalidation_0-error:0.227273\n",
      "[2]\tvalidation_0-error:0.227273\n",
      "[3]\tvalidation_0-error:0.227273\n",
      "[4]\tvalidation_0-error:0.227273\n",
      "[5]\tvalidation_0-error:0.227273\n",
      "[6]\tvalidation_0-error:0.227273\n",
      "[7]\tvalidation_0-error:0.214286\n",
      "[8]\tvalidation_0-error:0.214286\n",
      "[9]\tvalidation_0-error:0.220779\n",
      "[10]\tvalidation_0-error:0.227273\n",
      "[11]\tvalidation_0-error:0.233766\n",
      "[12]\tvalidation_0-error:0.227273\n",
      "[13]\tvalidation_0-error:0.227273\n",
      "[14]\tvalidation_0-error:0.214286\n",
      "[15]\tvalidation_0-error:0.227273\n",
      "[16]\tvalidation_0-error:0.227273\n",
      "[17]\tvalidation_0-error:0.227273\n",
      "[18]\tvalidation_0-error:0.233766\n",
      "[19]\tvalidation_0-error:0.24026\n",
      "[20]\tvalidation_0-error:0.24026\n",
      "[21]\tvalidation_0-error:0.24026\n",
      "[22]\tvalidation_0-error:0.246753\n",
      "[23]\tvalidation_0-error:0.233766\n",
      "[24]\tvalidation_0-error:0.246753\n",
      "[25]\tvalidation_0-error:0.253247\n",
      "[26]\tvalidation_0-error:0.246753\n",
      "[27]\tvalidation_0-error:0.266234\n",
      "[28]\tvalidation_0-error:0.272727\n",
      "[29]\tvalidation_0-error:0.266234\n",
      "[30]\tvalidation_0-error:0.266234\n",
      "[31]\tvalidation_0-error:0.25974\n",
      "[32]\tvalidation_0-error:0.25974\n",
      "[33]\tvalidation_0-error:0.272727\n",
      "[34]\tvalidation_0-error:0.272727\n",
      "[35]\tvalidation_0-error:0.266234\n",
      "[36]\tvalidation_0-error:0.266234\n",
      "[37]\tvalidation_0-error:0.266234\n",
      "[38]\tvalidation_0-error:0.266234\n",
      "[39]\tvalidation_0-error:0.266234\n",
      "[40]\tvalidation_0-error:0.266234\n",
      "[41]\tvalidation_0-error:0.266234\n",
      "[42]\tvalidation_0-error:0.266234\n",
      "[43]\tvalidation_0-error:0.266234\n",
      "[44]\tvalidation_0-error:0.266234\n",
      "[45]\tvalidation_0-error:0.25974\n",
      "[46]\tvalidation_0-error:0.253247\n",
      "[47]\tvalidation_0-error:0.25974\n",
      "[48]\tvalidation_0-error:0.253247\n",
      "[49]\tvalidation_0-error:0.25974\n",
      "[50]\tvalidation_0-error:0.253247\n",
      "[51]\tvalidation_0-error:0.253247\n",
      "[52]\tvalidation_0-error:0.253247\n",
      "[53]\tvalidation_0-error:0.253247\n",
      "[54]\tvalidation_0-error:0.253247\n",
      "[55]\tvalidation_0-error:0.25974\n",
      "[56]\tvalidation_0-error:0.25974\n",
      "[57]\tvalidation_0-error:0.25974\n",
      "[58]\tvalidation_0-error:0.25974\n",
      "[59]\tvalidation_0-error:0.25974\n",
      "[60]\tvalidation_0-error:0.25974\n",
      "[61]\tvalidation_0-error:0.266234\n",
      "[62]\tvalidation_0-error:0.25974\n",
      "[63]\tvalidation_0-error:0.253247\n",
      "[64]\tvalidation_0-error:0.253247\n",
      "[65]\tvalidation_0-error:0.246753\n",
      "[66]\tvalidation_0-error:0.246753\n",
      "[67]\tvalidation_0-error:0.246753\n",
      "[68]\tvalidation_0-error:0.253247\n",
      "[69]\tvalidation_0-error:0.253247\n",
      "[70]\tvalidation_0-error:0.253247\n",
      "[71]\tvalidation_0-error:0.253247\n",
      "[72]\tvalidation_0-error:0.253247\n",
      "[73]\tvalidation_0-error:0.253247\n",
      "[74]\tvalidation_0-error:0.253247\n",
      "[75]\tvalidation_0-error:0.253247\n",
      "[76]\tvalidation_0-error:0.253247\n",
      "[77]\tvalidation_0-error:0.253247\n",
      "[78]\tvalidation_0-error:0.25974\n",
      "[79]\tvalidation_0-error:0.253247\n",
      "[80]\tvalidation_0-error:0.253247\n",
      "[81]\tvalidation_0-error:0.253247\n",
      "[82]\tvalidation_0-error:0.25974\n",
      "[83]\tvalidation_0-error:0.25974\n",
      "[84]\tvalidation_0-error:0.25974\n",
      "[85]\tvalidation_0-error:0.266234\n",
      "[86]\tvalidation_0-error:0.266234\n",
      "[87]\tvalidation_0-error:0.266234\n",
      "[88]\tvalidation_0-error:0.266234\n",
      "[89]\tvalidation_0-error:0.266234\n",
      "[90]\tvalidation_0-error:0.25974\n",
      "[91]\tvalidation_0-error:0.25974\n",
      "[92]\tvalidation_0-error:0.266234\n",
      "[93]\tvalidation_0-error:0.279221\n",
      "[94]\tvalidation_0-error:0.279221\n",
      "[95]\tvalidation_0-error:0.279221\n",
      "[96]\tvalidation_0-error:0.272727\n",
      "[97]\tvalidation_0-error:0.279221\n",
      "[98]\tvalidation_0-error:0.285714\n",
      "[99]\tvalidation_0-error:0.285714\n"
     ]
    },
    {
     "data": {
      "text/plain": [
       "XGBClassifier(base_score=0.5, booster='gbtree', colsample_bylevel=1,\n",
       "       colsample_bytree=1, gamma=0, learning_rate=0.1, max_delta_step=0,\n",
       "       max_depth=3, min_child_weight=1, missing=None, n_estimators=100,\n",
       "       n_jobs=1, nthread=None, objective='binary:logistic', random_state=0,\n",
       "       reg_alpha=0, reg_lambda=1, scale_pos_weight=1, seed=None,\n",
       "       silent=True, subsample=1)"
      ]
     },
     "execution_count": 5,
     "metadata": {},
     "output_type": "execute_result"
    }
   ],
   "source": [
    "model = XGBClassifier()\n",
    "eval_set = [(X_test, y_test)]\n",
    "\n",
    "model.fit(X_train, y_train, eval_metric=\"error\", eval_set=eval_set, verbose=True)"
   ]
  },
  {
   "cell_type": "markdown",
   "metadata": {},
   "source": [
    "XGBoost supports a suite of evaluation metrics not limited to:\n",
    "* `rmse` for root mean squared error.\n",
    "* `mae` for mean absolute error.\n",
    "* `logloss` for binary logarithmic loss and `mlogloss` for multiclass log loss (cross entropy).\n",
    "* `error` for classification error.\n",
    "* `auc` for area under ROC curve."
   ]
  },
  {
   "cell_type": "markdown",
   "metadata": {},
   "source": [
    "## Build the model (with multiple evaluation metrics)\n",
    "Shows the train error and test error, for the `error` and `logloss` evaluation metrics."
   ]
  },
  {
   "cell_type": "code",
   "execution_count": 6,
   "metadata": {},
   "outputs": [
    {
     "name": "stdout",
     "output_type": "stream",
     "text": [
      "[0]\tvalidation_0-error:0.218241\tvalidation_0-logloss:0.656496\tvalidation_1-error:0.24026\tvalidation_1-logloss:0.660977\n",
      "[1]\tvalidation_0-error:0.221498\tvalidation_0-logloss:0.626512\tvalidation_1-error:0.227273\tvalidation_1-logloss:0.633569\n",
      "[2]\tvalidation_0-error:0.221498\tvalidation_0-logloss:0.601164\tvalidation_1-error:0.227273\tvalidation_1-logloss:0.609868\n",
      "[3]\tvalidation_0-error:0.221498\tvalidation_0-logloss:0.579424\tvalidation_1-error:0.227273\tvalidation_1-logloss:0.592242\n",
      "[4]\tvalidation_0-error:0.221498\tvalidation_0-logloss:0.56066\tvalidation_1-error:0.227273\tvalidation_1-logloss:0.572156\n",
      "[5]\tvalidation_0-error:0.221498\tvalidation_0-logloss:0.543092\tvalidation_1-error:0.227273\tvalidation_1-logloss:0.557812\n",
      "[6]\tvalidation_0-error:0.221498\tvalidation_0-logloss:0.526821\tvalidation_1-error:0.227273\tvalidation_1-logloss:0.546871\n",
      "[7]\tvalidation_0-error:0.216612\tvalidation_0-logloss:0.512728\tvalidation_1-error:0.214286\tvalidation_1-logloss:0.535614\n",
      "[8]\tvalidation_0-error:0.203583\tvalidation_0-logloss:0.500655\tvalidation_1-error:0.214286\tvalidation_1-logloss:0.527004\n",
      "[9]\tvalidation_0-error:0.197068\tvalidation_0-logloss:0.489424\tvalidation_1-error:0.220779\tvalidation_1-logloss:0.520404\n",
      "[10]\tvalidation_0-error:0.197068\tvalidation_0-logloss:0.479984\tvalidation_1-error:0.227273\tvalidation_1-logloss:0.515403\n",
      "[11]\tvalidation_0-error:0.19544\tvalidation_0-logloss:0.471501\tvalidation_1-error:0.233766\tvalidation_1-logloss:0.512447\n",
      "[12]\tvalidation_0-error:0.200326\tvalidation_0-logloss:0.463296\tvalidation_1-error:0.227273\tvalidation_1-logloss:0.508984\n",
      "[13]\tvalidation_0-error:0.198697\tvalidation_0-logloss:0.455543\tvalidation_1-error:0.227273\tvalidation_1-logloss:0.506304\n",
      "[14]\tvalidation_0-error:0.192182\tvalidation_0-logloss:0.448423\tvalidation_1-error:0.214286\tvalidation_1-logloss:0.501229\n",
      "[15]\tvalidation_0-error:0.190554\tvalidation_0-logloss:0.441861\tvalidation_1-error:0.227273\tvalidation_1-logloss:0.499703\n",
      "[16]\tvalidation_0-error:0.188925\tvalidation_0-logloss:0.436182\tvalidation_1-error:0.227273\tvalidation_1-logloss:0.498755\n",
      "[17]\tvalidation_0-error:0.18241\tvalidation_0-logloss:0.430436\tvalidation_1-error:0.227273\tvalidation_1-logloss:0.49256\n",
      "[18]\tvalidation_0-error:0.18241\tvalidation_0-logloss:0.424988\tvalidation_1-error:0.233766\tvalidation_1-logloss:0.492544\n",
      "[19]\tvalidation_0-error:0.185668\tvalidation_0-logloss:0.42009\tvalidation_1-error:0.24026\tvalidation_1-logloss:0.487507\n",
      "[20]\tvalidation_0-error:0.184039\tvalidation_0-logloss:0.415459\tvalidation_1-error:0.24026\tvalidation_1-logloss:0.48848\n",
      "[21]\tvalidation_0-error:0.180782\tvalidation_0-logloss:0.411083\tvalidation_1-error:0.24026\tvalidation_1-logloss:0.490797\n",
      "[22]\tvalidation_0-error:0.177524\tvalidation_0-logloss:0.4065\tvalidation_1-error:0.246753\tvalidation_1-logloss:0.490412\n",
      "[23]\tvalidation_0-error:0.179153\tvalidation_0-logloss:0.402749\tvalidation_1-error:0.233766\tvalidation_1-logloss:0.486692\n",
      "[24]\tvalidation_0-error:0.177524\tvalidation_0-logloss:0.399293\tvalidation_1-error:0.246753\tvalidation_1-logloss:0.487492\n",
      "[25]\tvalidation_0-error:0.172638\tvalidation_0-logloss:0.395354\tvalidation_1-error:0.253247\tvalidation_1-logloss:0.490333\n",
      "[26]\tvalidation_0-error:0.172638\tvalidation_0-logloss:0.392179\tvalidation_1-error:0.246753\tvalidation_1-logloss:0.487487\n",
      "[27]\tvalidation_0-error:0.172638\tvalidation_0-logloss:0.388765\tvalidation_1-error:0.266234\tvalidation_1-logloss:0.48945\n",
      "[28]\tvalidation_0-error:0.172638\tvalidation_0-logloss:0.385563\tvalidation_1-error:0.272727\tvalidation_1-logloss:0.488578\n",
      "[29]\tvalidation_0-error:0.162866\tvalidation_0-logloss:0.383031\tvalidation_1-error:0.266234\tvalidation_1-logloss:0.489719\n",
      "[30]\tvalidation_0-error:0.167752\tvalidation_0-logloss:0.379821\tvalidation_1-error:0.266234\tvalidation_1-logloss:0.489562\n",
      "[31]\tvalidation_0-error:0.17101\tvalidation_0-logloss:0.377232\tvalidation_1-error:0.25974\tvalidation_1-logloss:0.486333\n",
      "[32]\tvalidation_0-error:0.164495\tvalidation_0-logloss:0.374492\tvalidation_1-error:0.25974\tvalidation_1-logloss:0.489077\n",
      "[33]\tvalidation_0-error:0.169381\tvalidation_0-logloss:0.371168\tvalidation_1-error:0.272727\tvalidation_1-logloss:0.488718\n",
      "[34]\tvalidation_0-error:0.169381\tvalidation_0-logloss:0.368809\tvalidation_1-error:0.272727\tvalidation_1-logloss:0.490314\n",
      "[35]\tvalidation_0-error:0.162866\tvalidation_0-logloss:0.366729\tvalidation_1-error:0.266234\tvalidation_1-logloss:0.491817\n",
      "[36]\tvalidation_0-error:0.159609\tvalidation_0-logloss:0.36385\tvalidation_1-error:0.266234\tvalidation_1-logloss:0.491921\n",
      "[37]\tvalidation_0-error:0.15798\tvalidation_0-logloss:0.361501\tvalidation_1-error:0.266234\tvalidation_1-logloss:0.493093\n",
      "[38]\tvalidation_0-error:0.15798\tvalidation_0-logloss:0.359653\tvalidation_1-error:0.266234\tvalidation_1-logloss:0.493697\n",
      "[39]\tvalidation_0-error:0.156352\tvalidation_0-logloss:0.357916\tvalidation_1-error:0.266234\tvalidation_1-logloss:0.495322\n",
      "[40]\tvalidation_0-error:0.15798\tvalidation_0-logloss:0.355503\tvalidation_1-error:0.266234\tvalidation_1-logloss:0.494489\n",
      "[41]\tvalidation_0-error:0.15798\tvalidation_0-logloss:0.353254\tvalidation_1-error:0.266234\tvalidation_1-logloss:0.494801\n",
      "[42]\tvalidation_0-error:0.156352\tvalidation_0-logloss:0.35134\tvalidation_1-error:0.266234\tvalidation_1-logloss:0.495886\n",
      "[43]\tvalidation_0-error:0.154723\tvalidation_0-logloss:0.349487\tvalidation_1-error:0.266234\tvalidation_1-logloss:0.494649\n",
      "[44]\tvalidation_0-error:0.156352\tvalidation_0-logloss:0.348091\tvalidation_1-error:0.266234\tvalidation_1-logloss:0.493042\n",
      "[45]\tvalidation_0-error:0.154723\tvalidation_0-logloss:0.34623\tvalidation_1-error:0.25974\tvalidation_1-logloss:0.493526\n",
      "[46]\tvalidation_0-error:0.154723\tvalidation_0-logloss:0.344951\tvalidation_1-error:0.253247\tvalidation_1-logloss:0.492866\n",
      "[47]\tvalidation_0-error:0.154723\tvalidation_0-logloss:0.342179\tvalidation_1-error:0.25974\tvalidation_1-logloss:0.492445\n",
      "[48]\tvalidation_0-error:0.151466\tvalidation_0-logloss:0.340728\tvalidation_1-error:0.253247\tvalidation_1-logloss:0.495052\n",
      "[49]\tvalidation_0-error:0.151466\tvalidation_0-logloss:0.338816\tvalidation_1-error:0.25974\tvalidation_1-logloss:0.496514\n",
      "[50]\tvalidation_0-error:0.151466\tvalidation_0-logloss:0.337135\tvalidation_1-error:0.253247\tvalidation_1-logloss:0.499046\n",
      "[51]\tvalidation_0-error:0.151466\tvalidation_0-logloss:0.336002\tvalidation_1-error:0.253247\tvalidation_1-logloss:0.498486\n",
      "[52]\tvalidation_0-error:0.149837\tvalidation_0-logloss:0.333337\tvalidation_1-error:0.253247\tvalidation_1-logloss:0.500336\n",
      "[53]\tvalidation_0-error:0.149837\tvalidation_0-logloss:0.332317\tvalidation_1-error:0.253247\tvalidation_1-logloss:0.499123\n",
      "[54]\tvalidation_0-error:0.14658\tvalidation_0-logloss:0.330904\tvalidation_1-error:0.253247\tvalidation_1-logloss:0.500113\n",
      "[55]\tvalidation_0-error:0.144951\tvalidation_0-logloss:0.329185\tvalidation_1-error:0.25974\tvalidation_1-logloss:0.499658\n",
      "[56]\tvalidation_0-error:0.144951\tvalidation_0-logloss:0.327998\tvalidation_1-error:0.25974\tvalidation_1-logloss:0.4994\n",
      "[57]\tvalidation_0-error:0.144951\tvalidation_0-logloss:0.326432\tvalidation_1-error:0.25974\tvalidation_1-logloss:0.497853\n",
      "[58]\tvalidation_0-error:0.144951\tvalidation_0-logloss:0.325862\tvalidation_1-error:0.25974\tvalidation_1-logloss:0.497891\n",
      "[59]\tvalidation_0-error:0.143322\tvalidation_0-logloss:0.324997\tvalidation_1-error:0.25974\tvalidation_1-logloss:0.497518\n",
      "[60]\tvalidation_0-error:0.141694\tvalidation_0-logloss:0.323711\tvalidation_1-error:0.25974\tvalidation_1-logloss:0.496088\n",
      "[61]\tvalidation_0-error:0.143322\tvalidation_0-logloss:0.322773\tvalidation_1-error:0.266234\tvalidation_1-logloss:0.497568\n",
      "[62]\tvalidation_0-error:0.141694\tvalidation_0-logloss:0.321575\tvalidation_1-error:0.25974\tvalidation_1-logloss:0.498571\n",
      "[63]\tvalidation_0-error:0.141694\tvalidation_0-logloss:0.320268\tvalidation_1-error:0.253247\tvalidation_1-logloss:0.498423\n",
      "[64]\tvalidation_0-error:0.143322\tvalidation_0-logloss:0.318936\tvalidation_1-error:0.253247\tvalidation_1-logloss:0.498083\n",
      "[65]\tvalidation_0-error:0.136808\tvalidation_0-logloss:0.316722\tvalidation_1-error:0.246753\tvalidation_1-logloss:0.495417\n",
      "[66]\tvalidation_0-error:0.136808\tvalidation_0-logloss:0.315414\tvalidation_1-error:0.246753\tvalidation_1-logloss:0.494821\n",
      "[67]\tvalidation_0-error:0.140065\tvalidation_0-logloss:0.314323\tvalidation_1-error:0.246753\tvalidation_1-logloss:0.496319\n",
      "[68]\tvalidation_0-error:0.136808\tvalidation_0-logloss:0.312684\tvalidation_1-error:0.253247\tvalidation_1-logloss:0.495519\n"
     ]
    },
    {
     "name": "stdout",
     "output_type": "stream",
     "text": [
      "[69]\tvalidation_0-error:0.13355\tvalidation_0-logloss:0.310945\tvalidation_1-error:0.253247\tvalidation_1-logloss:0.495736\n",
      "[70]\tvalidation_0-error:0.135179\tvalidation_0-logloss:0.310231\tvalidation_1-error:0.253247\tvalidation_1-logloss:0.495431\n",
      "[71]\tvalidation_0-error:0.13355\tvalidation_0-logloss:0.309157\tvalidation_1-error:0.253247\tvalidation_1-logloss:0.495966\n",
      "[72]\tvalidation_0-error:0.135179\tvalidation_0-logloss:0.307508\tvalidation_1-error:0.253247\tvalidation_1-logloss:0.49422\n",
      "[73]\tvalidation_0-error:0.136808\tvalidation_0-logloss:0.306211\tvalidation_1-error:0.253247\tvalidation_1-logloss:0.495778\n",
      "[74]\tvalidation_0-error:0.136808\tvalidation_0-logloss:0.305672\tvalidation_1-error:0.253247\tvalidation_1-logloss:0.494674\n",
      "[75]\tvalidation_0-error:0.135179\tvalidation_0-logloss:0.304689\tvalidation_1-error:0.253247\tvalidation_1-logloss:0.49628\n",
      "[76]\tvalidation_0-error:0.135179\tvalidation_0-logloss:0.302549\tvalidation_1-error:0.253247\tvalidation_1-logloss:0.496988\n",
      "[77]\tvalidation_0-error:0.130293\tvalidation_0-logloss:0.30049\tvalidation_1-error:0.253247\tvalidation_1-logloss:0.498581\n",
      "[78]\tvalidation_0-error:0.125407\tvalidation_0-logloss:0.29863\tvalidation_1-error:0.25974\tvalidation_1-logloss:0.496731\n",
      "[79]\tvalidation_0-error:0.127036\tvalidation_0-logloss:0.29812\tvalidation_1-error:0.253247\tvalidation_1-logloss:0.497139\n",
      "[80]\tvalidation_0-error:0.125407\tvalidation_0-logloss:0.29624\tvalidation_1-error:0.253247\tvalidation_1-logloss:0.496696\n",
      "[81]\tvalidation_0-error:0.125407\tvalidation_0-logloss:0.29518\tvalidation_1-error:0.253247\tvalidation_1-logloss:0.496225\n",
      "[82]\tvalidation_0-error:0.125407\tvalidation_0-logloss:0.29461\tvalidation_1-error:0.25974\tvalidation_1-logloss:0.497459\n",
      "[83]\tvalidation_0-error:0.123778\tvalidation_0-logloss:0.29413\tvalidation_1-error:0.25974\tvalidation_1-logloss:0.497645\n",
      "[84]\tvalidation_0-error:0.12215\tvalidation_0-logloss:0.292736\tvalidation_1-error:0.25974\tvalidation_1-logloss:0.501112\n",
      "[85]\tvalidation_0-error:0.120521\tvalidation_0-logloss:0.291508\tvalidation_1-error:0.266234\tvalidation_1-logloss:0.502713\n",
      "[86]\tvalidation_0-error:0.120521\tvalidation_0-logloss:0.290894\tvalidation_1-error:0.266234\tvalidation_1-logloss:0.502492\n",
      "[87]\tvalidation_0-error:0.120521\tvalidation_0-logloss:0.289734\tvalidation_1-error:0.266234\tvalidation_1-logloss:0.502785\n",
      "[88]\tvalidation_0-error:0.117264\tvalidation_0-logloss:0.287692\tvalidation_1-error:0.266234\tvalidation_1-logloss:0.504573\n",
      "[89]\tvalidation_0-error:0.117264\tvalidation_0-logloss:0.287258\tvalidation_1-error:0.266234\tvalidation_1-logloss:0.503899\n",
      "[90]\tvalidation_0-error:0.117264\tvalidation_0-logloss:0.286057\tvalidation_1-error:0.25974\tvalidation_1-logloss:0.506006\n",
      "[91]\tvalidation_0-error:0.114007\tvalidation_0-logloss:0.284571\tvalidation_1-error:0.25974\tvalidation_1-logloss:0.506589\n",
      "[92]\tvalidation_0-error:0.112378\tvalidation_0-logloss:0.282486\tvalidation_1-error:0.266234\tvalidation_1-logloss:0.508944\n",
      "[93]\tvalidation_0-error:0.114007\tvalidation_0-logloss:0.28089\tvalidation_1-error:0.279221\tvalidation_1-logloss:0.510545\n",
      "[94]\tvalidation_0-error:0.114007\tvalidation_0-logloss:0.280378\tvalidation_1-error:0.279221\tvalidation_1-logloss:0.510439\n",
      "[95]\tvalidation_0-error:0.114007\tvalidation_0-logloss:0.279914\tvalidation_1-error:0.279221\tvalidation_1-logloss:0.511226\n",
      "[96]\tvalidation_0-error:0.112378\tvalidation_0-logloss:0.279033\tvalidation_1-error:0.272727\tvalidation_1-logloss:0.51312\n",
      "[97]\tvalidation_0-error:0.112378\tvalidation_0-logloss:0.278569\tvalidation_1-error:0.279221\tvalidation_1-logloss:0.513052\n",
      "[98]\tvalidation_0-error:0.112378\tvalidation_0-logloss:0.276452\tvalidation_1-error:0.285714\tvalidation_1-logloss:0.513722\n",
      "[99]\tvalidation_0-error:0.110749\tvalidation_0-logloss:0.275454\tvalidation_1-error:0.285714\tvalidation_1-logloss:0.513655\n"
     ]
    },
    {
     "data": {
      "text/plain": [
       "XGBClassifier(base_score=0.5, booster='gbtree', colsample_bylevel=1,\n",
       "       colsample_bytree=1, gamma=0, learning_rate=0.1, max_delta_step=0,\n",
       "       max_depth=3, min_child_weight=1, missing=None, n_estimators=100,\n",
       "       n_jobs=1, nthread=None, objective='binary:logistic', random_state=0,\n",
       "       reg_alpha=0, reg_lambda=1, scale_pos_weight=1, seed=None,\n",
       "       silent=True, subsample=1)"
      ]
     },
     "execution_count": 6,
     "metadata": {},
     "output_type": "execute_result"
    }
   ],
   "source": [
    "model = XGBClassifier()\n",
    "eval_set = [(X_train, y_train), (X_test, y_test)]\n",
    "\n",
    "model.fit(X_train, y_train, eval_metric=[\"error\", \"logloss\"], eval_set=eval_set, verbose=True)"
   ]
  },
  {
   "cell_type": "markdown",
   "metadata": {},
   "source": [
    "## Make predictions"
   ]
  },
  {
   "cell_type": "code",
   "execution_count": 7,
   "metadata": {},
   "outputs": [
    {
     "name": "stderr",
     "output_type": "stream",
     "text": [
      "/usr/lib/python3/dist-packages/sklearn/preprocessing/label.py:151: DeprecationWarning: The truth value of an empty array is ambiguous. Returning False, but in future this will result in an error. Use `array.size > 0` to check that an array is not empty.\n",
      "  if diff:\n"
     ]
    }
   ],
   "source": [
    "y_pred = model.predict(X_test)\n",
    "predictions = [round(value) for value in y_pred]"
   ]
  },
  {
   "cell_type": "markdown",
   "metadata": {},
   "source": [
    "## Evaluate predictions"
   ]
  },
  {
   "cell_type": "code",
   "execution_count": 8,
   "metadata": {},
   "outputs": [
    {
     "name": "stdout",
     "output_type": "stream",
     "text": [
      "Accuracy: 71.43%\n"
     ]
    }
   ],
   "source": [
    "accuracy = accuracy_score(y_test, predictions)\n",
    "print(\"Accuracy: %.2f%%\" % (accuracy * 100.0))"
   ]
  },
  {
   "cell_type": "markdown",
   "metadata": {},
   "source": [
    "## Retrieve performance metrics"
   ]
  },
  {
   "cell_type": "code",
   "execution_count": 9,
   "metadata": {},
   "outputs": [],
   "source": [
    "results = model.evals_result()\n",
    "epochs = len(results['validation_0']['error'])\n",
    "x_axis = range(0, epochs)"
   ]
  },
  {
   "cell_type": "markdown",
   "metadata": {},
   "source": [
    "## Plot log loss"
   ]
  },
  {
   "cell_type": "code",
   "execution_count": 10,
   "metadata": {},
   "outputs": [
    {
     "data": {
      "image/png": "[encoded data removed]",
      "text/plain": [
       "<matplotlib.figure.Figure at 0x7f4b9434b1d0>"
      ]
     },
     "metadata": {},
     "output_type": "display_data"
    }
   ],
   "source": [
    "fig, ax = pyplot.subplots()\n",
    "ax.plot(x_axis, results['validation_0']['logloss'], label='Train')\n",
    "ax.plot(x_axis, results['validation_1']['logloss'], label='Test')\n",
    "ax.legend()\n",
    "pyplot.ylabel('Log Loss')\n",
    "pyplot.title('XGBoost Log Loss')\n",
    "pyplot.show()"
   ]
  },
  {
   "cell_type": "markdown",
   "metadata": {},
   "source": [
    "## Plot classification error"
   ]
  },
  {
   "cell_type": "code",
   "execution_count": 11,
   "metadata": {},
   "outputs": [
    {
     "data": {
      "image/png": "[encoded data removed]",
      "text/plain": [
       "<matplotlib.figure.Figure at 0x7f4b94370940>"
      ]
     },
     "metadata": {},
     "output_type": "display_data"
    }
   ],
   "source": [
    "fig, ax = pyplot.subplots()\n",
    "ax.plot(x_axis, results['validation_0']['error'], label='Train')\n",
    "ax.plot(x_axis, results['validation_1']['error'], label='Test')\n",
    "ax.legend()\n",
    "pyplot.ylabel('Classification Error')\n",
    "pyplot.title('XGBoost Classification Error')\n",
    "pyplot.show()"
   ]
  },
  {
   "cell_type": "markdown",
   "metadata": {},
   "source": [
    "## Re-build model with early stopping\n",
    "Specify a window of the number of epochs over which no improvement is observed (i.e. `early_stopping_rounds` parameter). In this example, we stop if no improvement over 10 epochs."
   ]
  },
  {
   "cell_type": "code",
   "execution_count": 12,
   "metadata": {},
   "outputs": [
    {
     "name": "stdout",
     "output_type": "stream",
     "text": [
      "[0]\tvalidation_0-logloss:0.660977\n",
      "Will train until validation_0-logloss hasn't improved in 10 rounds.\n",
      "[1]\tvalidation_0-logloss:0.633569\n",
      "[2]\tvalidation_0-logloss:0.609868\n",
      "[3]\tvalidation_0-logloss:0.592242\n",
      "[4]\tvalidation_0-logloss:0.572156\n",
      "[5]\tvalidation_0-logloss:0.557812\n",
      "[6]\tvalidation_0-logloss:0.546871\n",
      "[7]\tvalidation_0-logloss:0.535614\n",
      "[8]\tvalidation_0-logloss:0.527004\n",
      "[9]\tvalidation_0-logloss:0.520404\n",
      "[10]\tvalidation_0-logloss:0.515403\n",
      "[11]\tvalidation_0-logloss:0.512447\n",
      "[12]\tvalidation_0-logloss:0.508984\n",
      "[13]\tvalidation_0-logloss:0.506304\n",
      "[14]\tvalidation_0-logloss:0.501229\n",
      "[15]\tvalidation_0-logloss:0.499703\n",
      "[16]\tvalidation_0-logloss:0.498755\n",
      "[17]\tvalidation_0-logloss:0.49256\n",
      "[18]\tvalidation_0-logloss:0.492544\n",
      "[19]\tvalidation_0-logloss:0.487507\n",
      "[20]\tvalidation_0-logloss:0.48848\n",
      "[21]\tvalidation_0-logloss:0.490797\n",
      "[22]\tvalidation_0-logloss:0.490412\n",
      "[23]\tvalidation_0-logloss:0.486692\n",
      "[24]\tvalidation_0-logloss:0.487492\n",
      "[25]\tvalidation_0-logloss:0.490333\n",
      "[26]\tvalidation_0-logloss:0.487487\n",
      "[27]\tvalidation_0-logloss:0.48945\n",
      "[28]\tvalidation_0-logloss:0.488578\n",
      "[29]\tvalidation_0-logloss:0.489719\n",
      "[30]\tvalidation_0-logloss:0.489562\n",
      "[31]\tvalidation_0-logloss:0.486333\n",
      "[32]\tvalidation_0-logloss:0.489077\n",
      "[33]\tvalidation_0-logloss:0.488718\n",
      "[34]\tvalidation_0-logloss:0.490314\n",
      "[35]\tvalidation_0-logloss:0.491817\n",
      "[36]\tvalidation_0-logloss:0.491921\n",
      "[37]\tvalidation_0-logloss:0.493093\n",
      "[38]\tvalidation_0-logloss:0.493697\n",
      "[39]\tvalidation_0-logloss:0.495322\n",
      "[40]\tvalidation_0-logloss:0.494489\n",
      "[41]\tvalidation_0-logloss:0.494801\n",
      "Stopping. Best iteration:\n",
      "[31]\tvalidation_0-logloss:0.486333\n",
      "\n"
     ]
    },
    {
     "data": {
      "text/plain": [
       "XGBClassifier(base_score=0.5, booster='gbtree', colsample_bylevel=1,\n",
       "       colsample_bytree=1, gamma=0, learning_rate=0.1, max_delta_step=0,\n",
       "       max_depth=3, min_child_weight=1, missing=None, n_estimators=100,\n",
       "       n_jobs=1, nthread=None, objective='binary:logistic', random_state=0,\n",
       "       reg_alpha=0, reg_lambda=1, scale_pos_weight=1, seed=None,\n",
       "       silent=True, subsample=1)"
      ]
     },
     "execution_count": 12,
     "metadata": {},
     "output_type": "execute_result"
    }
   ],
   "source": [
    "model = XGBClassifier()\n",
    "eval_set = [(X_test, y_test)]\n",
    "\n",
    "model.fit(X_train, y_train, early_stopping_rounds=10, eval_metric=\"logloss\", eval_set=eval_set, verbose=True)"
   ]
  },
  {
   "cell_type": "markdown",
   "metadata": {},
   "source": [
    "## Make predictions"
   ]
  },
  {
   "cell_type": "code",
   "execution_count": 13,
   "metadata": {},
   "outputs": [
    {
     "name": "stderr",
     "output_type": "stream",
     "text": [
      "/usr/lib/python3/dist-packages/sklearn/preprocessing/label.py:151: DeprecationWarning: The truth value of an empty array is ambiguous. Returning False, but in future this will result in an error. Use `array.size > 0` to check that an array is not empty.\n",
      "  if diff:\n"
     ]
    }
   ],
   "source": [
    "y_pred = model.predict(X_test)\n",
    "predictions = [round(value) for value in y_pred]"
   ]
  },
  {
   "cell_type": "markdown",
   "metadata": {},
   "source": [
    "## Evaluate predictions \n",
    "Compare this to the accuracy of the earlier model without early stopping."
   ]
  },
  {
   "cell_type": "code",
   "execution_count": 14,
   "metadata": {},
   "outputs": [
    {
     "name": "stdout",
     "output_type": "stream",
     "text": [
      "Accuracy: 74.03%\n"
     ]
    }
   ],
   "source": [
    "accuracy = accuracy_score(y_test, predictions)\n",
    "print(\"Accuracy: %.2f%%\" % (accuracy * 100.0))"
   ]
  },
  {
   "cell_type": "code",
   "execution_count": null,
   "metadata": {},
   "outputs": [],
   "source": []
  }
 ],
 "metadata": {
  "kernelspec": {
   "display_name": "Python 3",
   "language": "python",
   "name": "python3"
  },
  "language_info": {
   "codemirror_mode": {
    "name": "ipython",
    "version": 3
   },
   "file_extension": ".py",
   "mimetype": "text/x-python",
   "name": "python",
   "nbconvert_exporter": "python",
   "pygments_lexer": "ipython3",
   "version": "3.6.5"
  }
 },
 "nbformat": 4,
 "nbformat_minor": 2
}
